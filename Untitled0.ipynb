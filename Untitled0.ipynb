{
  "nbformat": 4,
  "nbformat_minor": 0,
  "metadata": {
    "colab": {
      "provenance": []
    },
    "kernelspec": {
      "name": "python3",
      "display_name": "Python 3"
    },
    "language_info": {
      "name": "python"
    }
  },
  "cells": [
    {
      "cell_type": "code",
      "execution_count": null,
      "metadata": {
        "id": "DzSIvX4JidB8"
      },
      "outputs": [],
      "source": []
    },
    {
      "cell_type": "markdown",
      "source": [
        "#FUNFYJFJHY"
      ],
      "metadata": {
        "id": "rki3zJuXikkP"
      }
    },
    {
      "cell_type": "markdown",
      "source": [
        "1.GFHFHJGJHGJGJG\n",
        "  - HYFYHJGHJMGJH,JH\n",
        "2. VFHGFHKUGKIHKLJKLJL.J\n",
        "  -"
      ],
      "metadata": {
        "id": "-nRvHzorio0q"
      }
    },
    {
      "cell_type": "markdown",
      "source": [
        "# DHGCGHCGHC\n",
        " ...\n",
        "  UIGUIGUIH8OUYHOHIUH8UHHJHHUIH8H\n",
        " ..."
      ],
      "metadata": {
        "id": "c6Vn2JMoi2xy"
      }
    }
  ]
}